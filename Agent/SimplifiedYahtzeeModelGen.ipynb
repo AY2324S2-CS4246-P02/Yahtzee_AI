{
 "cells": [
  {
   "cell_type": "markdown",
   "metadata": {},
   "source": [
    "Make sure there's this file, policy.npy and dice_neighbours.npy in the same folder before running."
   ]
  },
  {
   "cell_type": "markdown",
   "metadata": {},
   "source": [
    "Load required libraries."
   ]
  },
  {
   "cell_type": "code",
   "execution_count": 1,
   "metadata": {},
   "outputs": [],
   "source": [
    "import pickle\n",
    "import numpy as np\n",
    "from itertools import combinations_with_replacement, product\n",
    "from copy import deepcopy\n",
    "import random\n",
    "\n",
    "import Yahtzee  # LETS GO :))))"
   ]
  },
  {
   "cell_type": "markdown",
   "metadata": {},
   "source": [
    "This program creates the model for Yahtzee game.\n",
    "\n",
    "\n",
    "For simplified Yahtzee game where there are only 7 categories, there are a total of:\n",
    "- 3 rerolls\n",
    "- 2^7 ways to fill categories\n",
    "- 10C5 unique dice combinations\n",
    "For a total of 96,768 states.\n",
    "\n",
    "\n",
    "The IDs of each unique dice combination is simply the index of the combinations list.\n",
    "Fortunately, these are already all sorted in ascending order of die faces.\n",
    "Mapping between them is done with dictionaries."
   ]
  },
  {
   "cell_type": "code",
   "execution_count": 2,
   "metadata": {},
   "outputs": [],
   "source": [
    "dice_combinations = list(combinations_with_replacement(range(1, 7), 5))\n",
    "num_of_combinations = len(dice_combinations)  # 252\n",
    "\n",
    "id_to_combination = {}\n",
    "combination_to_id = {}\n",
    "for id in range(num_of_combinations):\n",
    "    id_to_combination[id] = dice_combinations[id]\n",
    "    combination_to_id[dice_combinations[id]] = id"
   ]
  },
  {
   "cell_type": "markdown",
   "metadata": {},
   "source": [
    "There are total of 2^5 = 32 ways of selecting dice to reroll.\n",
    "Since (0,0,0,0,0), or selecting no die for reroll is illegal, it is not accounted for.\n",
    "\n",
    "This will also be used for action space later. Simplest way to generate them is buy converting integers to bits."
   ]
  },
  {
   "cell_type": "code",
   "execution_count": 3,
   "metadata": {},
   "outputs": [],
   "source": [
    "num_of_selections = 32\n",
    "selections = []\n",
    "for i in range(1, 32):\n",
    "    select_combination = (i >> 4, i >> 3 & 1, i >> 2 & 1, i >> 1 & 1, i & 1)\n",
    "    selections.append(select_combination)"
   ]
  },
  {
   "cell_type": "markdown",
   "metadata": {},
   "source": [
    "Now it is time for transition functions.\n",
    "\n",
    "\n",
    "Each dice rolled may lead to 6 other states for dice, exponentially increasing per dice rerolled.\n",
    "That means, for every state, there are 31 reroll combinations and each combination leads to\n",
    "6^number of selected dice combinations.\n",
    "\n",
    "The resulting combination however is not unique to selection combination, for example:\n",
    "- Current dice: 1,1,2,2,3\n",
    "  - Reroll: 1,0,1,0,0, Result: 4,1,4,2,3 -> 1,2,3,4,4                \n",
    "  - Reroll: 0,1,0,1,0, Result: 1,4,2,4,3 -> 1,2,3,4,4\n",
    "\n",
    "This is why the probability of reaching a certain combination is not simply just (1/6)^dice rolled.\n",
    "There may be some clever math to work it out, but we have computer, memory and time, (most importantly, I'm too stupid)\n",
    "so why not just count the whole thing and then compute the probability?"
   ]
  },
  {
   "cell_type": "code",
   "execution_count": 4,
   "metadata": {},
   "outputs": [],
   "source": [
    "dice_neighbours = np.empty(252, dtype=object)\n",
    "\n",
    "for combination in dice_combinations:  # total of 252 combinations\n",
    "\n",
    "    # print(\"Currently looking at: \", combination)\n",
    "\n",
    "    transitions = []\n",
    "\n",
    "    for selection in selections:  # total of 31 ways to select\n",
    "\n",
    "        new_combinations = {}\n",
    "\n",
    "        # Keep the kept faces.\n",
    "        kept_faces = []\n",
    "        for i in range(5):\n",
    "            if selection[i] == 0:\n",
    "                kept_faces.append(combination[i])\n",
    "        \n",
    "        # Generate all new combinations.\n",
    "        num_of_selected_dice = sum(selection)\n",
    "        new_faces = list(product(range(1, 7), repeat=num_of_selected_dice))\n",
    "        total = len(new_faces)\n",
    "        for new_face in new_faces:\n",
    "            new_combination = sorted(kept_faces + list(new_face))\n",
    "            try:\n",
    "                new_combinations[tuple(new_combination)] += (1 / total)\n",
    "            except KeyError:\n",
    "                new_combinations[tuple(new_combination)] = (1 / total)\n",
    "        \n",
    "        # Converting to list for easier loop operations in future.\n",
    "        transition = []\n",
    "        for key in new_combinations.keys():\n",
    "            pair = (key, new_combinations[key])\n",
    "            transition.append(pair)\n",
    "        \n",
    "        transitions.append((selection, transition))\n",
    "\n",
    "        # print(\"Action completed for: \", selection)\n",
    "    \n",
    "    id = combination_to_id[combination]\n",
    "    dice_neighbours[id] = transitions\n",
    "\n",
    "np.save(\"dice_neighbours.npy\", dice_neighbours)"
   ]
  },
  {
   "cell_type": "code",
   "execution_count": 4,
   "metadata": {
    "tags": []
   },
   "outputs": [],
   "source": [
    "with open('dice_neighbours.npy', 'rb') as g:\n",
    "    dice_neighbours = np.load(g, allow_pickle=True)"
   ]
  },
  {
   "cell_type": "code",
   "execution_count": 5,
   "metadata": {},
   "outputs": [
    {
     "data": {
      "text/plain": [
       "252"
      ]
     },
     "execution_count": 5,
     "metadata": {},
     "output_type": "execute_result"
    }
   ],
   "source": [
    "# print(dice_neighbours[0][30])\n",
    "len(dice_neighbours[0][30][1])"
   ]
  },
  {
   "cell_type": "markdown",
   "metadata": {},
   "source": [
    "Now define the action space.\n",
    "\n",
    "The possible actions in each space are:\n",
    "- Select dices to roll (31 ways)\n",
    "- Write in to one of the category (7 options)\n",
    "\n",
    "For a total of 38 actions.\n",
    "\n",
    "They are indexed from 0 ~ 43, where 0 ~ 30 are the dice combinations, 31~37 are selecting each of the 13 categories in ascending order. For reference, the categories are:\n",
    "- 31: Three-of-a-Kind\n",
    "- 32: Four-of-a-Kind\n",
    "- 33: Full House\n",
    "- 34: Small Straight\n",
    "- 35: Large Straight\n",
    "- 36: Yahtzee\n",
    "- 37: Chance"
   ]
  },
  {
   "cell_type": "code",
   "execution_count": 6,
   "metadata": {},
   "outputs": [],
   "source": [
    "num_of_actions = 38\n",
    "category_names = [\"Three-of-a-Kind\", \"Four-of-a-Kind\", \"Full House\", \"Small Straight\", \"Large Straight\", \"Yahtzee\", \"Chance\"]\n",
    "id_to_action = {}\n",
    "action_to_id = {}\n",
    "for id in range(31):\n",
    "    id_to_action[id] = selections[id]\n",
    "    action_to_id[selections[id]] = id\n",
    "for id in range(7):\n",
    "    id_to_action[id + 31] = category_names[id]\n",
    "    action_to_id[category_names[id]] = id + 31"
   ]
  },
  {
   "cell_type": "code",
   "execution_count": 7,
   "metadata": {},
   "outputs": [
    {
     "name": "stdout",
     "output_type": "stream",
     "text": [
      "(1, 0, 1, 0, 1) Chance\n",
      "24 31\n"
     ]
    }
   ],
   "source": [
    "# Test\n",
    "print(id_to_action[20], id_to_action[37])\n",
    "print(action_to_id[(1,1,0,0,1)], action_to_id[\"Three-of-a-Kind\"])"
   ]
  },
  {
   "cell_type": "markdown",
   "metadata": {},
   "source": [
    "State is partitioned as such:\n",
    "- 3 rerolls\n",
    "    - 128 categories\n",
    "        - 252 dice combinations\n",
    "\n",
    "Write a parser for index and encoder for states."
   ]
  },
  {
   "cell_type": "code",
   "execution_count": 8,
   "metadata": {},
   "outputs": [],
   "source": [
    "# Bits are read from left to right.\n",
    "def parse_state(index):\n",
    "    rerolls_left, temp = divmod(index, 32256)  # [0 ~ 2]\n",
    "    categories, dice_combination = divmod(temp, 252)\n",
    "    return rerolls_left, categories, dice_combination\n",
    "\n",
    "\n",
    "def get_state_id(state):\n",
    "    rerolls_left, categories, dice_combination = state\n",
    "    id = rerolls_left * 32256 + categories * 252 + dice_combination\n",
    "    return id"
   ]
  },
  {
   "cell_type": "code",
   "execution_count": 9,
   "metadata": {},
   "outputs": [
    {
     "name": "stdout",
     "output_type": "stream",
     "text": [
      "(0, 16, 214)\n",
      "4246\n"
     ]
    }
   ],
   "source": [
    "print(parse_state(4246))\n",
    "# print(id_to_category[4096])\n",
    "# print(id_to_combination[0])\n",
    "print(get_state_id((0, 16, 214)))"
   ]
  },
  {
   "cell_type": "markdown",
   "metadata": {},
   "source": [
    "Total of 2^7 possible combination of categories, index them similar to the dice selections."
   ]
  },
  {
   "cell_type": "code",
   "execution_count": 10,
   "metadata": {},
   "outputs": [],
   "source": [
    "category_combinations = []\n",
    "for i in range(128):\n",
    "    category = []\n",
    "    for j in reversed(range(7)):\n",
    "        category.append(i >> j & 1)\n",
    "    category_combinations.append(category)\n",
    "\n",
    "id_to_category = {}\n",
    "category_to_id = {}\n",
    "for id in range(128):\n",
    "    id_to_category[id] = category_combinations[id]\n",
    "    category_to_id[tuple(category_combinations[id])] = id"
   ]
  },
  {
   "cell_type": "code",
   "execution_count": 11,
   "metadata": {},
   "outputs": [
    {
     "name": "stdout",
     "output_type": "stream",
     "text": [
      "71\n",
      "[1, 0, 0, 0, 1, 1, 1]\n"
     ]
    }
   ],
   "source": [
    "# Test\n",
    "print(category_to_id[(1,0,0,0,1,1,1)])\n",
    "print(id_to_category[71])"
   ]
  },
  {
   "cell_type": "markdown",
   "metadata": {},
   "source": [
    "Next we define the reward function. Reward will be simply the score obtained from writing into the category. Since this is invariant of successor state, it is in the form of R(s, a)\n",
    "\n",
    "May also give negative reward for giving up on current dice combination."
   ]
  },
  {
   "cell_type": "code",
   "execution_count": 12,
   "metadata": {},
   "outputs": [],
   "source": [
    "neg_multiplier = 0\n",
    "pos_multiplier = 1\n",
    "\n",
    "def calc_reward(state, action):\n",
    "    reward = 0\n",
    "    rerolls_left, categories, dice_combination = parse_state(state)\n",
    "    if action <= 30:  # rolling dice\n",
    "        pass\n",
    "    else:  # writing in to category \n",
    "        category_index = action - 31\n",
    "        parsed_dice = id_to_combination[dice_combination]\n",
    "        score = Yahtzee.CATEGORIES_SCORING[category_index](np.array(parsed_dice))\n",
    "        reward += score\n",
    "    return reward"
   ]
  },
  {
   "cell_type": "markdown",
   "metadata": {},
   "source": [
    "Now we finally model the game. For the total of 6,193,152 states, we create a transition function for each action: \n",
    "- For actions that roll the dice, it should transition to state where reroll count is reduced, categories are kept with new dice combination.\n",
    "- For actions that write the category, it should transition to state with that category written, reroll reset with fresh dice combination.\n",
    "- For illegal actions (rolling when no rerolls, writing to filled category), it will not be available in the state.\n"
   ]
  },
  {
   "cell_type": "code",
   "execution_count": 13,
   "metadata": {},
   "outputs": [],
   "source": [
    "# Action check to see if it is legal.\n",
    "def is_legal_action(state, action):\n",
    "    rerolls_left, categories, dice_combination = parse_state(state)\n",
    "    if action <= 30:  # rolling dice\n",
    "        return rerolls_left > 0\n",
    "    else:  # writing in to category\n",
    "        category_index = action - 31\n",
    "        return categories[category_index] == 0"
   ]
  },
  {
   "cell_type": "code",
   "execution_count": 14,
   "metadata": {
    "tags": []
   },
   "outputs": [],
   "source": [
    "# THE MODEL\n",
    "yahtzee_model = np.empty(96768, dtype=object)\n",
    "num_of_states = 96768\n",
    "\n",
    "for state in range(num_of_states):\n",
    "\n",
    "    state_model = []\n",
    "    rerolls_left, categories, dice_combination = parse_state(state)\n",
    "    \n",
    "    # Model all actions to successor states with probability and reward.\n",
    "    for action in range(num_of_actions):\n",
    "\n",
    "        if action <= 30:  # rerolling dice\n",
    "            if rerolls_left > 0:  # are there rerolls left?\n",
    "                state_transition = []\n",
    "                new_rerolls_left = rerolls_left - 1\n",
    "                action_transition = dice_neighbours[dice_combination][action]\n",
    "                reward = calc_reward(state, action)  # reward is independent of successor so compute outside to save calculations\n",
    "                # Now we need to append the rerolls_left, categories and dice_combination for proper state number.\n",
    "                for next_combination in action_transition[1]:\n",
    "                    next_combination_id = combination_to_id[next_combination[0]]\n",
    "                    next_state_id = get_state_id((new_rerolls_left, categories, next_combination_id))\n",
    "                    next_state_prob = next_combination[1]\n",
    "                    state_transition.append((next_state_id, next_state_prob, reward))\n",
    "                state_model.append((action, state_transition))\n",
    "\n",
    "        else:  # writing in to category\n",
    "            category_index = action - 31\n",
    "            parsed_categories = id_to_category[categories]\n",
    "            if parsed_categories[category_index] == 0:  # is category available?\n",
    "                state_transition = []\n",
    "                new_rerolls_left = 2\n",
    "                # Updating category.\n",
    "                new_category = list(parsed_categories)\n",
    "                new_category[category_index] = 1\n",
    "                # print(new_category)\n",
    "                new_category = tuple(new_category)\n",
    "                # Get the id of category to encode to state.\n",
    "                new_category = category_to_id[new_category]\n",
    "                # print(categories, parsed_categories, new_category)\n",
    "                action_transition = dice_neighbours[0][30]  # reroll everything\n",
    "                reward = calc_reward(state, action)\n",
    "                # Now we need to append the rerolls_left, categories and dice_combination for proper state number.\n",
    "                for next_combination in action_transition[1]:\n",
    "                    next_combination_id = combination_to_id[next_combination[0]]\n",
    "                    next_state_id = get_state_id((new_rerolls_left, new_category, next_combination_id))\n",
    "                    next_state_prob = next_combination[1]\n",
    "                    state_transition.append((next_state_id, next_state_prob, reward))\n",
    "                state_model.append((action, state_transition))\n",
    "    yahtzee_model[state] = state_model\n",
    "    # return state_model\n",
    "    # print(\"Finished state: \", state)\n",
    "    \n",
    "np.save(\"yahtzee_model.npy\", yahtzee_model)"
   ]
  },
  {
   "cell_type": "code",
   "execution_count": 13,
   "metadata": {
    "tags": []
   },
   "outputs": [
    {
     "name": "stderr",
     "output_type": "stream",
     "text": [
      "Exception ignored in: <bound method IPythonKernel._clean_thread_parent_frames of <ipykernel.ipkernel.IPythonKernel object at 0x000002A822526F70>>\n",
      "Traceback (most recent call last):\n",
      "  File \"c:\\Users\\opand\\miniconda3\\lib\\site-packages\\ipykernel\\ipkernel.py\", line 770, in _clean_thread_parent_frames\n",
      "    def _clean_thread_parent_frames(\n",
      "KeyboardInterrupt: \n"
     ]
    }
   ],
   "source": [
    "with open('yahtzee_model.npy', 'rb') as f:\n",
    "    yahtzee_model = np.load(f, allow_pickle=True)"
   ]
  },
  {
   "cell_type": "code",
   "execution_count": 85,
   "metadata": {
    "tags": []
   },
   "outputs": [
    {
     "name": "stdout",
     "output_type": "stream",
     "text": [
      "[]\n",
      "(0, 127, 251)\n",
      "[1, 1, 1, 1, 1, 1, 1]\n"
     ]
    }
   ],
   "source": [
    "print(yahtzee_model[32255])\n",
    "print(parse_state(32255))\n",
    "print(id_to_category[127])"
   ]
  },
  {
   "cell_type": "code",
   "execution_count": 14,
   "metadata": {
    "tags": []
   },
   "outputs": [],
   "source": [
    "# Hyperparameters\n",
    "gamma = 0.95\n",
    "theta = 0.0001\n",
    "max_iter = 10"
   ]
  },
  {
   "cell_type": "code",
   "execution_count": 84,
   "metadata": {},
   "outputs": [
    {
     "name": "stdout",
     "output_type": "stream",
     "text": [
      "(96768,) (96768,)\n"
     ]
    }
   ],
   "source": [
    "# Setting up for policy iteration\n",
    "num_of_states = 96768\n",
    "values = np.zeros(num_of_states, dtype=float)\n",
    "policy_function = np.zeros(num_of_states, dtype=int)\n",
    "print(values.shape, policy_function.shape)"
   ]
  },
  {
   "cell_type": "code",
   "execution_count": 86,
   "metadata": {
    "tags": []
   },
   "outputs": [],
   "source": [
    "# Random initialization of policies.\n",
    "for state in range(num_of_states):\n",
    "    state_model = yahtzee_model[state]  # [(action, [(state, prob, reward)])]\n",
    "    avail_actions = len(state_model)\n",
    "    random_action = 39\n",
    "    if avail_actions != 0:\n",
    "        random_action = random.choice(range(avail_actions))\n",
    "    policy_function[state] = random_action"
   ]
  },
  {
   "cell_type": "code",
   "execution_count": null,
   "metadata": {
    "tags": []
   },
   "outputs": [],
   "source": [
    "print(policy_function[4246], policy_function[82426])"
   ]
  },
  {
   "cell_type": "code",
   "execution_count": null,
   "metadata": {},
   "outputs": [
    {
     "name": "stdout",
     "output_type": "stream",
     "text": [
      "Policy evaluated for iteration:  0\n",
      "Iteration done:  0\n",
      "Policy evaluated for iteration:  1\n",
      "Iteration done:  1\n",
      "Policy evaluated for iteration:  2\n",
      "Iteration done:  2\n",
      "Policy evaluated for iteration:  3\n"
     ]
    }
   ],
   "source": [
    "for iteration in range(max_iter):\n",
    "\n",
    "    # values = np.zeros(num_of_states, dtype=float)\n",
    "    unchanged = True\n",
    "    \n",
    "    # Policy evaluation.\n",
    "    for state in range(num_of_states):\n",
    "        action_index = policy_function[state]\n",
    "        if action_index == 39:  # terminal state\n",
    "            continue\n",
    "        q_val = 0.0\n",
    "        policy_action = yahtzee_model[state][policy_function[state]]\n",
    "        # print(policy_action[0])\n",
    "        for transition in policy_action[1]:\n",
    "            next_state = transition[0]\n",
    "            prob = transition[1]\n",
    "            reward = transition[2]\n",
    "            # print(next_state)\n",
    "            # print(values[next_state])\n",
    "            val = prob * (reward + gamma * values[next_state])\n",
    "            q_val = q_val + val\n",
    "        values[state] = q_val\n",
    "    print(\"Policy evaluated for iteration: \", iteration)\n",
    "    \n",
    "    # Policy improvement\n",
    "    for state in range(num_of_states):\n",
    "        state_model = yahtzee_model[state]  # [(action, [(state, prob, reward)])]\n",
    "        best_action = policy_function[state]\n",
    "        index = 0\n",
    "        for action_transition in state_model:\n",
    "            action = action_transition[0]\n",
    "            transitions = action_transition[1]\n",
    "            q_val = 0.0\n",
    "            \n",
    "            for transition in transitions:\n",
    "                next_state = transition[0]\n",
    "                prob = transition[1]\n",
    "                reward = transition[2]\n",
    "                val = prob * (reward + gamma * values[next_state])\n",
    "                q_val = q_val + val\n",
    "            if q_val > values[state] * (1 + theta):\n",
    "                best_action = index\n",
    "                print(\"Changed state \", state, \" action to \", best_action)\n",
    "                unchanged = False\n",
    "            index = index + 1\n",
    "\n",
    "    if unchanged:\n",
    "        print(\"BREAK\")\n",
    "        break\n",
    "    \n",
    "    print(\"Iteration done: \", iteration)"
   ]
  },
  {
   "cell_type": "code",
   "execution_count": 102,
   "metadata": {
    "tags": []
   },
   "outputs": [],
   "source": [
    "# Convert index to proper actions.\n",
    "policy = np.zeros(num_of_states, dtype=int)\n",
    "for state in range(num_of_states):\n",
    "    action_index = policy_function[state]\n",
    "    if action_index == 39:  # terminal state\n",
    "        policy[state] = 39\n",
    "        continue\n",
    "    action = yahtzee_model[state][action_index][0]\n",
    "    policy[state] = action  \n",
    "np.save(\"policy.npy\", policy)\n",
    "np.save(\"policy_function.npy\", policy_function)"
   ]
  },
  {
   "cell_type": "code",
   "execution_count": 103,
   "metadata": {
    "tags": []
   },
   "outputs": [
    {
     "name": "stdout",
     "output_type": "stream",
     "text": [
      "[[31 37 35 ... 35 31 32]\n",
      " [34 34 34 ... 32 32 31]\n",
      " [37 34 32 ... 34 35 34]\n",
      " ...\n",
      " [ 4  1  1 ...  1  6  5]\n",
      " [ 1 29 11 ...  4 10 26]\n",
      " [ 0  1 26 ... 21 27  5]]\n"
     ]
    }
   ],
   "source": [
    "print(np.reshape(policy, (384, 252)))"
   ]
  },
  {
   "cell_type": "code",
   "execution_count": null,
   "metadata": {},
   "outputs": [],
   "source": []
  }
 ],
 "metadata": {
  "environment": {
   "kernel": "conda-root-py",
   "name": "workbench-notebooks.m118",
   "type": "gcloud",
   "uri": "us-docker.pkg.dev/deeplearning-platform-release/gcr.io/workbench-notebooks:m118"
  },
  "kernelspec": {
   "display_name": "base",
   "language": "python",
   "name": "python3"
  },
  "language_info": {
   "codemirror_mode": {
    "name": "ipython",
    "version": 3
   },
   "file_extension": ".py",
   "mimetype": "text/x-python",
   "name": "python",
   "nbconvert_exporter": "python",
   "pygments_lexer": "ipython3",
   "version": "3.8.18"
  }
 },
 "nbformat": 4,
 "nbformat_minor": 4
}
