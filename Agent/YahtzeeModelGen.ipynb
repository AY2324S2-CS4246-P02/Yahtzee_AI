{
 "cells": [
  {
   "cell_type": "markdown",
   "metadata": {},
   "source": [
    "Load required libraries."
   ]
  },
  {
   "cell_type": "code",
   "execution_count": 63,
   "metadata": {},
   "outputs": [],
   "source": [
    "import pickle\n",
    "import numpy as np\n",
    "from itertools import combinations_with_replacement, product\n",
    "from copy import deepcopy\n",
    "\n",
    "import Yahtzee  # LETS GO :))))"
   ]
  },
  {
   "cell_type": "markdown",
   "metadata": {},
   "source": [
    "This program creates the model for Yahtzee game.\n",
    "\n",
    "\n",
    "Ignoring the `Bonus`, simplified (actual scores aren't remembered), there are a total of:\n",
    "- 3 rerolls (2 bits)\n",
    "- 2^13 ways to fill categories (13 bits)\n",
    "- 10C5 unique dice combinations (8 bits)\n",
    "For a total of 6,193,152 states.\n",
    "\n",
    "\n",
    "These states has been discretized and represented with 23 bits:\n",
    "- First 2 bits represent number of rerolls left (0~2)\n",
    "- Next 13 bits represent whether categories are filled\n",
    "- Last 8 bits represent the IDs of unique dice combinations.\n",
    "\n",
    "\n",
    "The IDs of each unique dice combination is simply the index of the combinations list.\n",
    "Fortunately, these are already all sorted in ascending order of die faces.\n",
    "Mapping between them is done with dictionaries."
   ]
  },
  {
   "cell_type": "code",
   "execution_count": 64,
   "metadata": {},
   "outputs": [],
   "source": [
    "dice_combinations = list(combinations_with_replacement(range(1, 7), 5))\n",
    "num_of_combinations = len(dice_combinations)  # 252\n",
    "\n",
    "id_to_combination = {}\n",
    "combination_to_id = {}\n",
    "for id in range(num_of_combinations):\n",
    "    id_to_combination[id] = dice_combinations[id]\n",
    "    combination_to_id[dice_combinations[id]] = id"
   ]
  },
  {
   "cell_type": "markdown",
   "metadata": {},
   "source": [
    "There are total of 2^5 = 32 ways of selecting dice to reroll.\n",
    "Since (0,0,0,0,0), or selecting no die for reroll is illegal, it is not accounted for.\n",
    "\n",
    "This will also be used for action space later. Simplest way to generate them is buy converting integers to bits."
   ]
  },
  {
   "cell_type": "code",
   "execution_count": 65,
   "metadata": {},
   "outputs": [],
   "source": [
    "num_of_selections = 32\n",
    "selections = []\n",
    "for i in range(1, 32):\n",
    "    select_combination = (i >> 4, i >> 3 & 1, i >> 2 & 1, i >> 1 & 1, i & 1)\n",
    "    selections.append(select_combination)"
   ]
  },
  {
   "cell_type": "markdown",
   "metadata": {},
   "source": [
    "Now it is time for transition functions.\n",
    "\n",
    "\n",
    "Each dice rolled may lead to 6 other states for dice, exponentially increasing per dice rerolled.\n",
    "That means, for every state, there are 31 reroll combinations and each combination leads to\n",
    "6^number of selected dice combinations.\n",
    "\n",
    "The resulting combination however is not unique to selection combination, for example:\n",
    "- Current dice: 1,1,2,2,3\n",
    "  - Reroll: 1,0,1,0,0, Result: 4,1,4,2,3 -> 1,2,3,4,4                \n",
    "  - Reroll: 0,1,0,1,0, Result: 1,4,2,4,3 -> 1,2,3,4,4\n",
    "\n",
    "This is why the probability of reaching a certain combination is not simply just (1/6)^dice rolled.\n",
    "There may be some clever math to work it out, but we have computer, memory and time, (most importantly, I'm too stupid)\n",
    "so why not just count the whole thing and then compute the probability?"
   ]
  },
  {
   "cell_type": "code",
   "execution_count": 39,
   "metadata": {},
   "outputs": [],
   "source": [
    "dice_neighbours = np.empty(252, dtype=object)\n",
    "\n",
    "for combination in dice_combinations:  # total of 252 combinations\n",
    "\n",
    "    # print(\"Currently looking at: \", combination)\n",
    "\n",
    "    transitions = []\n",
    "\n",
    "    for selection in selections:  # total of 31 ways to select\n",
    "\n",
    "        new_combinations = {}\n",
    "\n",
    "        # Keep the kept faces.\n",
    "        kept_faces = []\n",
    "        for i in range(5):\n",
    "            if selection[i] == 0:\n",
    "                kept_faces.append(combination[i])\n",
    "        \n",
    "        # Generate all new combinations.\n",
    "        num_of_selected_dice = sum(selection)\n",
    "        new_faces = list(product(range(1, 7), repeat=num_of_selected_dice))\n",
    "        total = len(new_faces)\n",
    "        for new_face in new_faces:\n",
    "            new_combination = sorted(kept_faces + list(new_face))\n",
    "            try:\n",
    "                new_combinations[tuple(new_combination)] += (1 / total)\n",
    "            except KeyError:\n",
    "                new_combinations[tuple(new_combination)] = (1 / total)\n",
    "        \n",
    "        # Converting to list for easier loop operations in future.\n",
    "        transition = []\n",
    "        for key in new_combinations.keys():\n",
    "            pair = (key, new_combinations[key])\n",
    "            transition.append(pair)\n",
    "        \n",
    "        transitions.append((selection, transition))\n",
    "\n",
    "        # print(\"Action completed for: \", selection)\n",
    "    \n",
    "    id = combination_to_id[combination]\n",
    "    dice_neighbours[id] = transitions\n",
    "\n",
    "np.save(\"dice_neighbours.npy\", dice_neighbours)"
   ]
  },
  {
   "cell_type": "code",
   "execution_count": 40,
   "metadata": {},
   "outputs": [
    {
     "name": "stdout",
     "output_type": "stream",
     "text": [
      "((1, 1, 1, 1, 1), [((1, 1, 1, 1, 1), 0.0001286008230452675), ((1, 1, 1, 1, 2), 0.0006430041152263376), ((1, 1, 1, 1, 3), 0.0006430041152263376), ((1, 1, 1, 1, 4), 0.0006430041152263376), ((1, 1, 1, 1, 5), 0.0006430041152263376), ((1, 1, 1, 1, 6), 0.0006430041152263376), ((1, 1, 1, 2, 2), 0.0012860082304526753), ((1, 1, 1, 2, 3), 0.00257201646090535), ((1, 1, 1, 2, 4), 0.00257201646090535), ((1, 1, 1, 2, 5), 0.00257201646090535), ((1, 1, 1, 2, 6), 0.00257201646090535), ((1, 1, 1, 3, 3), 0.0012860082304526753), ((1, 1, 1, 3, 4), 0.00257201646090535), ((1, 1, 1, 3, 5), 0.00257201646090535), ((1, 1, 1, 3, 6), 0.00257201646090535), ((1, 1, 1, 4, 4), 0.0012860082304526753), ((1, 1, 1, 4, 5), 0.00257201646090535), ((1, 1, 1, 4, 6), 0.00257201646090535), ((1, 1, 1, 5, 5), 0.0012860082304526753), ((1, 1, 1, 5, 6), 0.00257201646090535), ((1, 1, 1, 6, 6), 0.0012860082304526753), ((1, 1, 2, 2, 2), 0.0012860082304526753), ((1, 1, 2, 2, 3), 0.003858024691358023), ((1, 1, 2, 2, 4), 0.003858024691358023), ((1, 1, 2, 2, 5), 0.003858024691358023), ((1, 1, 2, 2, 6), 0.003858024691358023), ((1, 1, 2, 3, 3), 0.003858024691358023), ((1, 1, 2, 3, 4), 0.007716049382716056), ((1, 1, 2, 3, 5), 0.007716049382716056), ((1, 1, 2, 3, 6), 0.007716049382716056), ((1, 1, 2, 4, 4), 0.003858024691358023), ((1, 1, 2, 4, 5), 0.007716049382716056), ((1, 1, 2, 4, 6), 0.007716049382716056), ((1, 1, 2, 5, 5), 0.003858024691358023), ((1, 1, 2, 5, 6), 0.007716049382716056), ((1, 1, 2, 6, 6), 0.003858024691358023), ((1, 1, 3, 3, 3), 0.0012860082304526753), ((1, 1, 3, 3, 4), 0.003858024691358023), ((1, 1, 3, 3, 5), 0.003858024691358023), ((1, 1, 3, 3, 6), 0.003858024691358023), ((1, 1, 3, 4, 4), 0.003858024691358023), ((1, 1, 3, 4, 5), 0.007716049382716056), ((1, 1, 3, 4, 6), 0.007716049382716056), ((1, 1, 3, 5, 5), 0.003858024691358023), ((1, 1, 3, 5, 6), 0.007716049382716056), ((1, 1, 3, 6, 6), 0.003858024691358023), ((1, 1, 4, 4, 4), 0.0012860082304526753), ((1, 1, 4, 4, 5), 0.003858024691358023), ((1, 1, 4, 4, 6), 0.003858024691358023), ((1, 1, 4, 5, 5), 0.003858024691358023), ((1, 1, 4, 5, 6), 0.007716049382716056), ((1, 1, 4, 6, 6), 0.003858024691358023), ((1, 1, 5, 5, 5), 0.0012860082304526753), ((1, 1, 5, 5, 6), 0.003858024691358023), ((1, 1, 5, 6, 6), 0.003858024691358023), ((1, 1, 6, 6, 6), 0.0012860082304526753), ((1, 2, 2, 2, 2), 0.0006430041152263376), ((1, 2, 2, 2, 3), 0.00257201646090535), ((1, 2, 2, 2, 4), 0.00257201646090535), ((1, 2, 2, 2, 5), 0.00257201646090535), ((1, 2, 2, 2, 6), 0.00257201646090535), ((1, 2, 2, 3, 3), 0.003858024691358023), ((1, 2, 2, 3, 4), 0.007716049382716056), ((1, 2, 2, 3, 5), 0.007716049382716056), ((1, 2, 2, 3, 6), 0.007716049382716056), ((1, 2, 2, 4, 4), 0.003858024691358023), ((1, 2, 2, 4, 5), 0.007716049382716056), ((1, 2, 2, 4, 6), 0.007716049382716056), ((1, 2, 2, 5, 5), 0.003858024691358023), ((1, 2, 2, 5, 6), 0.007716049382716056), ((1, 2, 2, 6, 6), 0.003858024691358023), ((1, 2, 3, 3, 3), 0.00257201646090535), ((1, 2, 3, 3, 4), 0.007716049382716056), ((1, 2, 3, 3, 5), 0.007716049382716056), ((1, 2, 3, 3, 6), 0.007716049382716056), ((1, 2, 3, 4, 4), 0.007716049382716056), ((1, 2, 3, 4, 5), 0.01543209876543207), ((1, 2, 3, 4, 6), 0.01543209876543207), ((1, 2, 3, 5, 5), 0.007716049382716056), ((1, 2, 3, 5, 6), 0.01543209876543207), ((1, 2, 3, 6, 6), 0.007716049382716056), ((1, 2, 4, 4, 4), 0.00257201646090535), ((1, 2, 4, 4, 5), 0.007716049382716056), ((1, 2, 4, 4, 6), 0.007716049382716056), ((1, 2, 4, 5, 5), 0.007716049382716056), ((1, 2, 4, 5, 6), 0.01543209876543207), ((1, 2, 4, 6, 6), 0.007716049382716056), ((1, 2, 5, 5, 5), 0.00257201646090535), ((1, 2, 5, 5, 6), 0.007716049382716056), ((1, 2, 5, 6, 6), 0.007716049382716056), ((1, 2, 6, 6, 6), 0.00257201646090535), ((1, 3, 3, 3, 3), 0.0006430041152263376), ((1, 3, 3, 3, 4), 0.00257201646090535), ((1, 3, 3, 3, 5), 0.00257201646090535), ((1, 3, 3, 3, 6), 0.00257201646090535), ((1, 3, 3, 4, 4), 0.003858024691358023), ((1, 3, 3, 4, 5), 0.007716049382716056), ((1, 3, 3, 4, 6), 0.007716049382716056), ((1, 3, 3, 5, 5), 0.003858024691358023), ((1, 3, 3, 5, 6), 0.007716049382716056), ((1, 3, 3, 6, 6), 0.003858024691358023), ((1, 3, 4, 4, 4), 0.00257201646090535), ((1, 3, 4, 4, 5), 0.007716049382716056), ((1, 3, 4, 4, 6), 0.007716049382716056), ((1, 3, 4, 5, 5), 0.007716049382716056), ((1, 3, 4, 5, 6), 0.01543209876543207), ((1, 3, 4, 6, 6), 0.007716049382716056), ((1, 3, 5, 5, 5), 0.00257201646090535), ((1, 3, 5, 5, 6), 0.007716049382716056), ((1, 3, 5, 6, 6), 0.007716049382716056), ((1, 3, 6, 6, 6), 0.00257201646090535), ((1, 4, 4, 4, 4), 0.0006430041152263376), ((1, 4, 4, 4, 5), 0.00257201646090535), ((1, 4, 4, 4, 6), 0.00257201646090535), ((1, 4, 4, 5, 5), 0.003858024691358023), ((1, 4, 4, 5, 6), 0.007716049382716056), ((1, 4, 4, 6, 6), 0.003858024691358023), ((1, 4, 5, 5, 5), 0.00257201646090535), ((1, 4, 5, 5, 6), 0.007716049382716056), ((1, 4, 5, 6, 6), 0.007716049382716056), ((1, 4, 6, 6, 6), 0.00257201646090535), ((1, 5, 5, 5, 5), 0.0006430041152263376), ((1, 5, 5, 5, 6), 0.00257201646090535), ((1, 5, 5, 6, 6), 0.003858024691358023), ((1, 5, 6, 6, 6), 0.00257201646090535), ((1, 6, 6, 6, 6), 0.0006430041152263376), ((2, 2, 2, 2, 2), 0.0001286008230452675), ((2, 2, 2, 2, 3), 0.0006430041152263376), ((2, 2, 2, 2, 4), 0.0006430041152263376), ((2, 2, 2, 2, 5), 0.0006430041152263376), ((2, 2, 2, 2, 6), 0.0006430041152263376), ((2, 2, 2, 3, 3), 0.0012860082304526753), ((2, 2, 2, 3, 4), 0.00257201646090535), ((2, 2, 2, 3, 5), 0.00257201646090535), ((2, 2, 2, 3, 6), 0.00257201646090535), ((2, 2, 2, 4, 4), 0.0012860082304526753), ((2, 2, 2, 4, 5), 0.00257201646090535), ((2, 2, 2, 4, 6), 0.00257201646090535), ((2, 2, 2, 5, 5), 0.0012860082304526753), ((2, 2, 2, 5, 6), 0.00257201646090535), ((2, 2, 2, 6, 6), 0.0012860082304526753), ((2, 2, 3, 3, 3), 0.0012860082304526753), ((2, 2, 3, 3, 4), 0.003858024691358023), ((2, 2, 3, 3, 5), 0.003858024691358023), ((2, 2, 3, 3, 6), 0.003858024691358023), ((2, 2, 3, 4, 4), 0.003858024691358023), ((2, 2, 3, 4, 5), 0.007716049382716056), ((2, 2, 3, 4, 6), 0.007716049382716056), ((2, 2, 3, 5, 5), 0.003858024691358023), ((2, 2, 3, 5, 6), 0.007716049382716056), ((2, 2, 3, 6, 6), 0.003858024691358023), ((2, 2, 4, 4, 4), 0.0012860082304526753), ((2, 2, 4, 4, 5), 0.003858024691358023), ((2, 2, 4, 4, 6), 0.003858024691358023), ((2, 2, 4, 5, 5), 0.003858024691358023), ((2, 2, 4, 5, 6), 0.007716049382716056), ((2, 2, 4, 6, 6), 0.003858024691358023), ((2, 2, 5, 5, 5), 0.0012860082304526753), ((2, 2, 5, 5, 6), 0.003858024691358023), ((2, 2, 5, 6, 6), 0.003858024691358023), ((2, 2, 6, 6, 6), 0.0012860082304526753), ((2, 3, 3, 3, 3), 0.0006430041152263376), ((2, 3, 3, 3, 4), 0.00257201646090535), ((2, 3, 3, 3, 5), 0.00257201646090535), ((2, 3, 3, 3, 6), 0.00257201646090535), ((2, 3, 3, 4, 4), 0.003858024691358023), ((2, 3, 3, 4, 5), 0.007716049382716056), ((2, 3, 3, 4, 6), 0.007716049382716056), ((2, 3, 3, 5, 5), 0.003858024691358023), ((2, 3, 3, 5, 6), 0.007716049382716056), ((2, 3, 3, 6, 6), 0.003858024691358023), ((2, 3, 4, 4, 4), 0.00257201646090535), ((2, 3, 4, 4, 5), 0.007716049382716056), ((2, 3, 4, 4, 6), 0.007716049382716056), ((2, 3, 4, 5, 5), 0.007716049382716056), ((2, 3, 4, 5, 6), 0.01543209876543207), ((2, 3, 4, 6, 6), 0.007716049382716056), ((2, 3, 5, 5, 5), 0.00257201646090535), ((2, 3, 5, 5, 6), 0.007716049382716056), ((2, 3, 5, 6, 6), 0.007716049382716056), ((2, 3, 6, 6, 6), 0.00257201646090535), ((2, 4, 4, 4, 4), 0.0006430041152263376), ((2, 4, 4, 4, 5), 0.00257201646090535), ((2, 4, 4, 4, 6), 0.00257201646090535), ((2, 4, 4, 5, 5), 0.003858024691358023), ((2, 4, 4, 5, 6), 0.007716049382716056), ((2, 4, 4, 6, 6), 0.003858024691358023), ((2, 4, 5, 5, 5), 0.00257201646090535), ((2, 4, 5, 5, 6), 0.007716049382716056), ((2, 4, 5, 6, 6), 0.007716049382716056), ((2, 4, 6, 6, 6), 0.00257201646090535), ((2, 5, 5, 5, 5), 0.0006430041152263376), ((2, 5, 5, 5, 6), 0.00257201646090535), ((2, 5, 5, 6, 6), 0.003858024691358023), ((2, 5, 6, 6, 6), 0.00257201646090535), ((2, 6, 6, 6, 6), 0.0006430041152263376), ((3, 3, 3, 3, 3), 0.0001286008230452675), ((3, 3, 3, 3, 4), 0.0006430041152263376), ((3, 3, 3, 3, 5), 0.0006430041152263376), ((3, 3, 3, 3, 6), 0.0006430041152263376), ((3, 3, 3, 4, 4), 0.0012860082304526753), ((3, 3, 3, 4, 5), 0.00257201646090535), ((3, 3, 3, 4, 6), 0.00257201646090535), ((3, 3, 3, 5, 5), 0.0012860082304526753), ((3, 3, 3, 5, 6), 0.00257201646090535), ((3, 3, 3, 6, 6), 0.0012860082304526753), ((3, 3, 4, 4, 4), 0.0012860082304526753), ((3, 3, 4, 4, 5), 0.003858024691358023), ((3, 3, 4, 4, 6), 0.003858024691358023), ((3, 3, 4, 5, 5), 0.003858024691358023), ((3, 3, 4, 5, 6), 0.007716049382716056), ((3, 3, 4, 6, 6), 0.003858024691358023), ((3, 3, 5, 5, 5), 0.0012860082304526753), ((3, 3, 5, 5, 6), 0.003858024691358023), ((3, 3, 5, 6, 6), 0.003858024691358023), ((3, 3, 6, 6, 6), 0.0012860082304526753), ((3, 4, 4, 4, 4), 0.0006430041152263376), ((3, 4, 4, 4, 5), 0.00257201646090535), ((3, 4, 4, 4, 6), 0.00257201646090535), ((3, 4, 4, 5, 5), 0.003858024691358023), ((3, 4, 4, 5, 6), 0.007716049382716056), ((3, 4, 4, 6, 6), 0.003858024691358023), ((3, 4, 5, 5, 5), 0.00257201646090535), ((3, 4, 5, 5, 6), 0.007716049382716056), ((3, 4, 5, 6, 6), 0.007716049382716056), ((3, 4, 6, 6, 6), 0.00257201646090535), ((3, 5, 5, 5, 5), 0.0006430041152263376), ((3, 5, 5, 5, 6), 0.00257201646090535), ((3, 5, 5, 6, 6), 0.003858024691358023), ((3, 5, 6, 6, 6), 0.00257201646090535), ((3, 6, 6, 6, 6), 0.0006430041152263376), ((4, 4, 4, 4, 4), 0.0001286008230452675), ((4, 4, 4, 4, 5), 0.0006430041152263376), ((4, 4, 4, 4, 6), 0.0006430041152263376), ((4, 4, 4, 5, 5), 0.0012860082304526753), ((4, 4, 4, 5, 6), 0.00257201646090535), ((4, 4, 4, 6, 6), 0.0012860082304526753), ((4, 4, 5, 5, 5), 0.0012860082304526753), ((4, 4, 5, 5, 6), 0.003858024691358023), ((4, 4, 5, 6, 6), 0.003858024691358023), ((4, 4, 6, 6, 6), 0.0012860082304526753), ((4, 5, 5, 5, 5), 0.0006430041152263376), ((4, 5, 5, 5, 6), 0.00257201646090535), ((4, 5, 5, 6, 6), 0.003858024691358023), ((4, 5, 6, 6, 6), 0.00257201646090535), ((4, 6, 6, 6, 6), 0.0006430041152263376), ((5, 5, 5, 5, 5), 0.0001286008230452675), ((5, 5, 5, 5, 6), 0.0006430041152263376), ((5, 5, 5, 6, 6), 0.0012860082304526753), ((5, 5, 6, 6, 6), 0.0012860082304526753), ((5, 6, 6, 6, 6), 0.0006430041152263376), ((6, 6, 6, 6, 6), 0.0001286008230452675)])\n"
     ]
    },
    {
     "data": {
      "text/plain": [
       "252"
      ]
     },
     "execution_count": 40,
     "metadata": {},
     "output_type": "execute_result"
    }
   ],
   "source": [
    "print(dice_neighbours[0][30])\n",
    "len(dice_neighbours[0][30][1])"
   ]
  },
  {
   "cell_type": "markdown",
   "metadata": {},
   "source": [
    "Now define the action space.\n",
    "\n",
    "The possible actions in each space are:\n",
    "- Write in to one of the category (13 options)\n",
    "- Select dices to roll (31 ways)\n",
    "\n",
    "For a total of 44 actions.\n",
    "\n",
    "They are indexed from 0~43, where 0~30 are the dice combinations, 31~43 are selecting each of the 13 categories in ascending order, where 31 is writing in to `Ones`, 32 to `Twos`, ..., 43 to `Chance`. For reference, the categories are:\n",
    "- 32: Ones\n",
    "- 33: Twos\n",
    "- 34: Threes\n",
    "- 35: Fours\n",
    "- 36: Fives\n",
    "- 37: Sixes\n",
    "- 38: Three-of-a-Kind\n",
    "- 39: Four-of-a-Kind\n",
    "- 40: Full House\n",
    "- 41: Small Straight\n",
    "- 42: Large Straight\n",
    "- 43: Yahtzee\n",
    "- 44: Chance"
   ]
  },
  {
   "cell_type": "code",
   "execution_count": 66,
   "metadata": {},
   "outputs": [],
   "source": [
    "num_of_actions = 44\n",
    "category_names = [\"Ones\", \"Twos\", \"Threes\", \"Fours\", \"Fives\", \"Sixes\", \"Three-of-a-Kind\", \"Four-of-a-Kind\", \"Full House\", \"Small Straight\", \"Large Straight\", \"Yahtzee\", \"Chance\"]\n",
    "id_to_action = {}\n",
    "action_to_id = {}\n",
    "for id in range(31):\n",
    "    id_to_action[id] = selections[id]\n",
    "    action_to_id[selections[id]] = id\n",
    "for id in range(13):\n",
    "    id_to_action[id + 31] = category_names[id]\n",
    "    action_to_id[category_names[id]] = id"
   ]
  },
  {
   "cell_type": "code",
   "execution_count": 67,
   "metadata": {},
   "outputs": [
    {
     "name": "stdout",
     "output_type": "stream",
     "text": [
      "(1, 0, 1, 0, 1) Chance\n",
      "24 6\n"
     ]
    }
   ],
   "source": [
    "# Test\n",
    "print(id_to_action[20], id_to_action[43])\n",
    "print(action_to_id[(1,1,0,0,1)], action_to_id[\"Three-of-a-Kind\"])"
   ]
  },
  {
   "cell_type": "markdown",
   "metadata": {},
   "source": [
    "State space is defined as above, but defining 6,193,152 states with 23 bits (8,388,608) means at least 26% of states are empty and not in use.\n",
    "\n",
    "To save time during iteration algorithm and also condense the space, split the index to many sub partitions:\n",
    "- 3 rerolls [0~2,064,383], [2,064,384~4,128,767], [4,128,768~6,193,151]\n",
    "    - 8,192 categories [[0~251, 252~503, ...]], [[2,064,384~2,064,635, 2,064,636~2,064,888, ... ]], ...\n",
    "        - 252 dice combinations [[[0], [1], ...]], [[[2,064,384], [2,064,385], ...]], ...\n",
    "\n",
    "Write a parser for index and encoder for states."
   ]
  },
  {
   "cell_type": "code",
   "execution_count": 68,
   "metadata": {},
   "outputs": [],
   "source": [
    "# Bits are read from left to right.\n",
    "def parse_state(index):\n",
    "    rerolls_left, temp = divmod(index, 2064384)  # [0 ~ 2]\n",
    "    categories, dice_combination = divmod(temp, 252)\n",
    "    return rerolls_left, categories, dice_combination\n",
    "\n",
    "\n",
    "def get_state_id(state):\n",
    "    rerolls_left, categories, dice_combination = state\n",
    "    id = rerolls_left * 2064384 + categories * 252 + dice_combination\n",
    "    return id"
   ]
  },
  {
   "cell_type": "code",
   "execution_count": 70,
   "metadata": {},
   "outputs": [
    {
     "name": "stdout",
     "output_type": "stream",
     "text": [
      "(2, 4096, 0)\n",
      "[1, 0, 0, 0, 0, 0, 0, 0, 0, 0, 0, 0, 0]\n",
      "(1, 1, 1, 1, 1)\n",
      "4246\n"
     ]
    }
   ],
   "source": [
    "print(parse_state(5160960))\n",
    "print(id_to_category[4096])\n",
    "print(id_to_combination[0])\n",
    "print(get_state_id((0, 16, 214)))"
   ]
  },
  {
   "cell_type": "markdown",
   "metadata": {},
   "source": [
    "Total of 2^13 possible combination of categories, index them similar to the dice selections."
   ]
  },
  {
   "cell_type": "code",
   "execution_count": 45,
   "metadata": {},
   "outputs": [],
   "source": [
    "category_combinations = []\n",
    "for i in range(0, 8192):\n",
    "    category = []\n",
    "    for j in reversed(range(13)):\n",
    "        category.append(i >> j & 1)\n",
    "    category_combinations.append(category)\n",
    "\n",
    "id_to_category = {}\n",
    "category_to_id = {}\n",
    "for id in range(8192):\n",
    "    id_to_category[id] = category_combinations[id]\n",
    "    category_to_id[tuple(category_combinations[id])] = id"
   ]
  },
  {
   "cell_type": "code",
   "execution_count": 46,
   "metadata": {},
   "outputs": [
    {
     "name": "stdout",
     "output_type": "stream",
     "text": [
      "4509\n",
      "[1, 0, 0, 0, 0, 1, 0, 0, 1, 0, 1, 1, 0]\n"
     ]
    }
   ],
   "source": [
    "# Test\n",
    "print(category_to_id[(1,0,0,0,1,1,0,0,1,1,1,0,1)])\n",
    "print(id_to_category[4246])"
   ]
  },
  {
   "cell_type": "markdown",
   "metadata": {},
   "source": [
    "Next we define the reward function. Reward will be simply the score obtained from writing into the category. Since this is invariant of successor state, it is in the form of R(s, a)\n",
    "\n",
    "May also give negative reward for giving up on current dice combination."
   ]
  },
  {
   "cell_type": "code",
   "execution_count": 59,
   "metadata": {},
   "outputs": [],
   "source": [
    "neg_multiplier = 0\n",
    "pos_multiplier = 1\n",
    "\n",
    "def calc_reward(state, action):\n",
    "    reward = 0\n",
    "    rerolls_left, categories, dice_combination = parse_state(state)\n",
    "    if action <= 30:  # rolling dice\n",
    "        pass\n",
    "    else:  # writing in to category \n",
    "        category_index = action - 31\n",
    "        parsed_dice = id_to_combination[dice_combination]\n",
    "        score = Yahtzee.CATEGORIES_SCORING[category_index](np.array(parsed_dice))\n",
    "        reward += score * pos_multiplier\n",
    "    return reward"
   ]
  },
  {
   "cell_type": "markdown",
   "metadata": {},
   "source": [
    "Now we finally model the game. For the total of 6,193,152 states, we create a transition function for each action: \n",
    "- For actions that roll the dice, it should transition to state where reroll count is reduced, categories are kept with new dice combination.\n",
    "- For actions that write the category, it should transition to state with that category written, reroll reset with fresh dice combination.\n",
    "- For illegal actions (rolling when no rerolls, writing to filled category), it will not be available in the state.\n"
   ]
  },
  {
   "cell_type": "code",
   "execution_count": 48,
   "metadata": {},
   "outputs": [],
   "source": [
    "# Action check to see if it is legal.\n",
    "def is_legal_action(state, action):\n",
    "    rerolls_left, categories, dice_combination = parse_state(state)\n",
    "    if action <= 30:  # rolling dice\n",
    "        return rerolls_left > 0\n",
    "    else:  # writing in to category\n",
    "        category_index = action - 31\n",
    "        return categories[category_index] == 0"
   ]
  },
  {
   "cell_type": "code",
   "execution_count": null,
   "metadata": {},
   "outputs": [],
   "source": [
    "# THE MODEL\n",
    "yahtzee_model = np.empty(6193152, dtype=object)\n",
    "num_of_states = 6193152\n",
    "\n",
    "for state in range(num_of_states):\n",
    "    state_model = []\n",
    "    rerolls_left, categories, dice_combination = parse_state(state)\n",
    "    \n",
    "    # Model all actions to successor states with probability and reward.\n",
    "    for action in range(num_of_actions):\n",
    "\n",
    "        if action <= 30:  # rerolling dice\n",
    "            if rerolls_left > 0:  # are there rerolls left?\n",
    "                state_transition = []\n",
    "                new_rerolls_left = rerolls_left - 1\n",
    "                curr_dice_id = combination_to_id[dice_combination]\n",
    "                action_transition = dice_neighbours[curr_dice_id][action]\n",
    "                reward = calc_reward(state, action)  # reward is independent of successor so compute outside to save calculations\n",
    "                # Now we need to append the rerolls_left, categories and dice_combination for proper state number.\n",
    "                for next_combination in action_transition[1]:\n",
    "                    next_combination_id = combination_to_id[next_combination[0]]\n",
    "                    next_state_id = get_state_id((new_rerolls_left, categories, next_combination_id))\n",
    "                    next_state_prob = next_combination[1]\n",
    "                    state_transition.append((next_state_id, next_state_prob, reward))\n",
    "                state_model.append((action, state_transition))\n",
    "\n",
    "        else:  # writing in to category\n",
    "            category_index = action - 31\n",
    "            parsed_categories = id_to_category[categories]\n",
    "            if parsed_categories[category_index] == 0:  # is category available?\n",
    "                state_transition = []\n",
    "                new_rerolls_left = 2\n",
    "                # Updating category.\n",
    "                new_category = list(parsed_categories)\n",
    "                new_category[category_index] = 1\n",
    "                # print(new_category)\n",
    "                new_category = tuple(new_category)\n",
    "                # Get the id of category to encode to state.\n",
    "                new_category = category_to_id[new_category]\n",
    "                # print(categories, parsed_categories, new_category)\n",
    "                action_transition = dice_neighbours[0][30]  # reroll everything\n",
    "                reward = calc_reward(state, action)\n",
    "                # Now we need to append the rerolls_left, categories and dice_combination for proper state number.\n",
    "                for next_combination in action_transition[1]:\n",
    "                    next_combination_id = combination_to_id[next_combination[0]]\n",
    "                    next_state_id = get_state_id((new_rerolls_left, new_category, next_combination_id))\n",
    "                    next_state_prob = next_combination[1]\n",
    "                    state_transition.append((next_state_id, next_state_prob, reward))\n",
    "                state_model.append((action, state_transition))\n",
    "    yahtzee_model[state] = state_model\n",
    "    print(\"Finished state: \", state)\n",
    "    \n",
    "np.save(\"yahtzee_model.npy\", yahtzee_model)"
   ]
  }
 ],
 "metadata": {
  "kernelspec": {
   "display_name": "base",
   "language": "python",
   "name": "python3"
  },
  "language_info": {
   "codemirror_mode": {
    "name": "ipython",
    "version": 3
   },
   "file_extension": ".py",
   "mimetype": "text/x-python",
   "name": "python",
   "nbconvert_exporter": "python",
   "pygments_lexer": "ipython3",
   "version": "3.8.18"
  }
 },
 "nbformat": 4,
 "nbformat_minor": 2
}
